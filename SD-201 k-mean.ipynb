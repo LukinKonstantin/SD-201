{
 "cells": [
  {
   "cell_type": "code",
   "execution_count": 2,
   "metadata": {},
   "outputs": [],
   "source": [
    "import pandas as pd\n",
    "import numpy as np\n",
    "import matplotlib.pyplot as plt\n",
    "from random import randint"
   ]
  },
  {
   "cell_type": "code",
   "execution_count": 3,
   "metadata": {},
   "outputs": [
    {
     "data": {
      "text/html": [
       "<div>\n",
       "<style scoped>\n",
       "    .dataframe tbody tr th:only-of-type {\n",
       "        vertical-align: middle;\n",
       "    }\n",
       "\n",
       "    .dataframe tbody tr th {\n",
       "        vertical-align: top;\n",
       "    }\n",
       "\n",
       "    .dataframe thead th {\n",
       "        text-align: right;\n",
       "    }\n",
       "</style>\n",
       "<table border=\"1\" class=\"dataframe\">\n",
       "  <thead>\n",
       "    <tr style=\"text-align: right;\">\n",
       "      <th></th>\n",
       "      <th>StockName</th>\n",
       "      <th>1/28/2011</th>\n",
       "      <th>4/29/2011</th>\n",
       "      <th>5/20/2011</th>\n",
       "      <th>4/1/2011</th>\n",
       "      <th>5/27/2011</th>\n",
       "      <th>6/17/2011</th>\n",
       "      <th>4/15/2011</th>\n",
       "      <th>2/18/2011</th>\n",
       "      <th>3/18/2011</th>\n",
       "      <th>...</th>\n",
       "      <th>1/14/2011</th>\n",
       "      <th>4/8/2011</th>\n",
       "      <th>4/21/2011</th>\n",
       "      <th>3/4/2011</th>\n",
       "      <th>3/25/2011</th>\n",
       "      <th>2/4/2011</th>\n",
       "      <th>1/7/2011</th>\n",
       "      <th>2/25/2011</th>\n",
       "      <th>5/13/2011</th>\n",
       "      <th>1/21/2011</th>\n",
       "    </tr>\n",
       "  </thead>\n",
       "  <tbody>\n",
       "    <tr>\n",
       "      <th>0</th>\n",
       "      <td>American Express</td>\n",
       "      <td>-4.755700</td>\n",
       "      <td>4.00509</td>\n",
       "      <td>3.581550</td>\n",
       "      <td>-0.395257</td>\n",
       "      <td>0.768624</td>\n",
       "      <td>1.125940</td>\n",
       "      <td>-0.237274</td>\n",
       "      <td>-1.917280</td>\n",
       "      <td>0.706794</td>\n",
       "      <td>...</td>\n",
       "      <td>4.63801</td>\n",
       "      <td>1.468980</td>\n",
       "      <td>2.74809</td>\n",
       "      <td>-0.022868</td>\n",
       "      <td>1.877090</td>\n",
       "      <td>-0.70247</td>\n",
       "      <td>2.448040</td>\n",
       "      <td>-3.137520</td>\n",
       "      <td>-1.138630</td>\n",
       "      <td>-0.065175</td>\n",
       "    </tr>\n",
       "    <tr>\n",
       "      <th>1</th>\n",
       "      <td>Boeing</td>\n",
       "      <td>-3.201900</td>\n",
       "      <td>5.65488</td>\n",
       "      <td>-1.449280</td>\n",
       "      <td>0.693878</td>\n",
       "      <td>0.574788</td>\n",
       "      <td>1.505610</td>\n",
       "      <td>-1.425660</td>\n",
       "      <td>0.467675</td>\n",
       "      <td>-2.908530</td>\n",
       "      <td>...</td>\n",
       "      <td>0.93633</td>\n",
       "      <td>0.122649</td>\n",
       "      <td>3.74037</td>\n",
       "      <td>-0.924520</td>\n",
       "      <td>4.339170</td>\n",
       "      <td>3.06093</td>\n",
       "      <td>4.882840</td>\n",
       "      <td>-0.069109</td>\n",
       "      <td>-0.353045</td>\n",
       "      <td>1.157210</td>\n",
       "    </tr>\n",
       "    <tr>\n",
       "      <th>2</th>\n",
       "      <td>Chevron</td>\n",
       "      <td>-0.553840</td>\n",
       "      <td>1.92791</td>\n",
       "      <td>0.529256</td>\n",
       "      <td>1.804510</td>\n",
       "      <td>2.056760</td>\n",
       "      <td>-0.869652</td>\n",
       "      <td>-3.189360</td>\n",
       "      <td>3.371730</td>\n",
       "      <td>3.670840</td>\n",
       "      <td>...</td>\n",
       "      <td>2.06707</td>\n",
       "      <td>1.050500</td>\n",
       "      <td>3.03001</td>\n",
       "      <td>1.437230</td>\n",
       "      <td>2.811480</td>\n",
       "      <td>3.47363</td>\n",
       "      <td>-0.512765</td>\n",
       "      <td>2.892270</td>\n",
       "      <td>-0.832930</td>\n",
       "      <td>0.903809</td>\n",
       "    </tr>\n",
       "    <tr>\n",
       "      <th>3</th>\n",
       "      <td>Cisco Systems</td>\n",
       "      <td>0.431862</td>\n",
       "      <td>3.48494</td>\n",
       "      <td>-1.724140</td>\n",
       "      <td>-1.843320</td>\n",
       "      <td>0.304692</td>\n",
       "      <td>-1.122850</td>\n",
       "      <td>-3.839640</td>\n",
       "      <td>0.053079</td>\n",
       "      <td>-3.761930</td>\n",
       "      <td>...</td>\n",
       "      <td>1.28940</td>\n",
       "      <td>3.762490</td>\n",
       "      <td>0.35545</td>\n",
       "      <td>-1.181530</td>\n",
       "      <td>-0.346021</td>\n",
       "      <td>5.35117</td>\n",
       "      <td>2.542790</td>\n",
       "      <td>-0.480513</td>\n",
       "      <td>-3.707930</td>\n",
       "      <td>-2.356270</td>\n",
       "    </tr>\n",
       "    <tr>\n",
       "      <th>4</th>\n",
       "      <td>DuPont</td>\n",
       "      <td>3.819160</td>\n",
       "      <td>1.97522</td>\n",
       "      <td>0.000000</td>\n",
       "      <td>1.995930</td>\n",
       "      <td>1.565220</td>\n",
       "      <td>-0.919448</td>\n",
       "      <td>-1.009920</td>\n",
       "      <td>2.828800</td>\n",
       "      <td>-0.357277</td>\n",
       "      <td>...</td>\n",
       "      <td>3.10559</td>\n",
       "      <td>-0.180180</td>\n",
       "      <td>3.00295</td>\n",
       "      <td>-0.645518</td>\n",
       "      <td>0.557621</td>\n",
       "      <td>4.74576</td>\n",
       "      <td>-0.579421</td>\n",
       "      <td>-1.601460</td>\n",
       "      <td>-3.694940</td>\n",
       "      <td>-2.382390</td>\n",
       "    </tr>\n",
       "  </tbody>\n",
       "</table>\n",
       "<p>5 rows × 26 columns</p>\n",
       "</div>"
      ],
      "text/plain": [
       "          StockName  1/28/2011  4/29/2011  5/20/2011  4/1/2011  5/27/2011  \\\n",
       "0  American Express  -4.755700    4.00509   3.581550 -0.395257   0.768624   \n",
       "1            Boeing  -3.201900    5.65488  -1.449280  0.693878   0.574788   \n",
       "2           Chevron  -0.553840    1.92791   0.529256  1.804510   2.056760   \n",
       "3     Cisco Systems   0.431862    3.48494  -1.724140 -1.843320   0.304692   \n",
       "4            DuPont   3.819160    1.97522   0.000000  1.995930   1.565220   \n",
       "\n",
       "   6/17/2011  4/15/2011  2/18/2011  3/18/2011  ...  1/14/2011  4/8/2011  \\\n",
       "0   1.125940  -0.237274  -1.917280   0.706794  ...    4.63801  1.468980   \n",
       "1   1.505610  -1.425660   0.467675  -2.908530  ...    0.93633  0.122649   \n",
       "2  -0.869652  -3.189360   3.371730   3.670840  ...    2.06707  1.050500   \n",
       "3  -1.122850  -3.839640   0.053079  -3.761930  ...    1.28940  3.762490   \n",
       "4  -0.919448  -1.009920   2.828800  -0.357277  ...    3.10559 -0.180180   \n",
       "\n",
       "   4/21/2011  3/4/2011  3/25/2011  2/4/2011  1/7/2011  2/25/2011  5/13/2011  \\\n",
       "0    2.74809 -0.022868   1.877090  -0.70247  2.448040  -3.137520  -1.138630   \n",
       "1    3.74037 -0.924520   4.339170   3.06093  4.882840  -0.069109  -0.353045   \n",
       "2    3.03001  1.437230   2.811480   3.47363 -0.512765   2.892270  -0.832930   \n",
       "3    0.35545 -1.181530  -0.346021   5.35117  2.542790  -0.480513  -3.707930   \n",
       "4    3.00295 -0.645518   0.557621   4.74576 -0.579421  -1.601460  -3.694940   \n",
       "\n",
       "   1/21/2011  \n",
       "0  -0.065175  \n",
       "1   1.157210  \n",
       "2   0.903809  \n",
       "3  -2.356270  \n",
       "4  -2.382390  \n",
       "\n",
       "[5 rows x 26 columns]"
      ]
     },
     "execution_count": 3,
     "metadata": {},
     "output_type": "execute_result"
    }
   ],
   "source": [
    "df = pd.read_csv(\"data.csv\")\n",
    "df.head()"
   ]
  },
  {
   "cell_type": "code",
   "execution_count": 4,
   "metadata": {},
   "outputs": [],
   "source": [
    "df_names = df[\"StockName\"]\n",
    "del df[\"StockName\"]"
   ]
  },
  {
   "cell_type": "code",
   "execution_count": 5,
   "metadata": {},
   "outputs": [],
   "source": [
    "row = []\n",
    "for i in range(df.shape[0]):\n",
    "    row.append(np.array(df.iloc[i]))"
   ]
  },
  {
   "cell_type": "code",
   "execution_count": 6,
   "metadata": {},
   "outputs": [],
   "source": [
    "k = 8"
   ]
  },
  {
   "cell_type": "code",
   "execution_count": 11,
   "metadata": {},
   "outputs": [],
   "source": [
    "def eu_distance(a, b):\n",
    "    return np.sqrt(((a - b)**2).sum()) \n",
    "\n",
    "def compute_clusters(data, centroids, clusters, c_number, data_shape):\n",
    "    for i in range(data_shape[0]):\n",
    "        dist = np.array([])\n",
    "        for j in range(c_number):\n",
    "            dist = np.append(dist, eu_distance(data[i], centroids[j]))\n",
    "        clusters[np.argmin(dist)].append(i)\n",
    "    return clusters\n",
    "\n",
    "def overweight(data, clusters, centroids, data_shape):\n",
    "    for i in range(len(clusters)):\n",
    "        if (len(clusters[i]) > 0):\n",
    "            a = np.zeros(data_shape[1])\n",
    "            for j in range(len(clusters[i])):\n",
    "                a += data[clusters[i][j]]\n",
    "            a /= len(clusters[i])\n",
    "            centroids[i] = a\n",
    "    return centroids\n",
    "            \n",
    "def k_means(data, c_number, data_shape, iterations):\n",
    "    clusters = []\n",
    "    centroids = []\n",
    "    counter = 0\n",
    "    taken = []\n",
    "    while counter < c_number:\n",
    "        val = randint(0, data_shape[0] - 1)\n",
    "        if (val not in taken):\n",
    "            taken.append(val)\n",
    "            centroids.append(data[val])\n",
    "            counter += 1\n",
    "    for it in range(iterations):\n",
    "        clusters = [[ ] for i in range(c_number)]\n",
    "        clusters = compute_clusters(data, centroids, clusters, c_number, data_shape)\n",
    "        centroids = overweight(data, clusters, centroids, data_shape)\n",
    "    sse = np.array([])\n",
    "    for i in range(c_number):        \n",
    "        for j in range(len(clusters[i])):\n",
    "            sse = np.append(sse, eu_distance(data[clusters[i][j]], centroids[i]))\n",
    "    print(sse.sum())\n",
    "    return clusters"
   ]
  },
  {
   "cell_type": "markdown",
   "metadata": {},
   "source": [
    "it is assumed that as the number of iterations increases, sse will decrease."
   ]
  },
  {
   "cell_type": "code",
   "execution_count": 12,
   "metadata": {},
   "outputs": [
    {
     "name": "stdout",
     "output_type": "stream",
     "text": [
      "224.01211487766415\n"
     ]
    },
    {
     "data": {
      "text/plain": [
       "[[1, 9, 12, 15, 16, 22, 28, 29],\n",
       " [0, 13, 19, 20, 26],\n",
       " [3, 21],\n",
       " [4, 6, 14],\n",
       " [2, 23],\n",
       " [7, 24, 25],\n",
       " [8, 10, 11, 17, 18],\n",
       " [5, 27]]"
      ]
     },
     "execution_count": 12,
     "metadata": {},
     "output_type": "execute_result"
    }
   ],
   "source": [
    "k_means(row, k, df.shape, 100)"
   ]
  },
  {
   "cell_type": "code",
   "execution_count": 13,
   "metadata": {},
   "outputs": [
    {
     "name": "stdout",
     "output_type": "stream",
     "text": [
      "218.09225007297755\n"
     ]
    },
    {
     "data": {
      "text/plain": [
       "[[15],\n",
       " [0],\n",
       " [3],\n",
       " [9, 10, 11, 16, 18, 22, 24, 25, 28],\n",
       " [5, 13, 17, 20, 29],\n",
       " [1, 12, 23],\n",
       " [7, 19, 26, 27],\n",
       " [2, 4, 6, 8, 14, 21]]"
      ]
     },
     "execution_count": 13,
     "metadata": {},
     "output_type": "execute_result"
    }
   ],
   "source": [
    "k_means(row, k, df.shape, 200)"
   ]
  },
  {
   "cell_type": "code",
   "execution_count": 15,
   "metadata": {},
   "outputs": [
    {
     "name": "stdout",
     "output_type": "stream",
     "text": [
      "205.7970875684581\n"
     ]
    },
    {
     "data": {
      "text/plain": [
       "[[16],\n",
       " [6, 14],\n",
       " [4],\n",
       " [0, 1, 9, 12, 15, 18, 22, 24, 25, 28, 29],\n",
       " [2, 3, 21, 23],\n",
       " [5, 8, 10, 11, 13, 17, 19, 26, 27],\n",
       " [7],\n",
       " [20]]"
      ]
     },
     "execution_count": 15,
     "metadata": {},
     "output_type": "execute_result"
    }
   ],
   "source": [
    "k_means(row, k, df.shape, 300)"
   ]
  },
  {
   "cell_type": "code",
   "execution_count": 17,
   "metadata": {},
   "outputs": [
    {
     "name": "stdout",
     "output_type": "stream",
     "text": [
      "211.30210352690221\n"
     ]
    },
    {
     "data": {
      "text/plain": [
       "[[14],\n",
       " [11],\n",
       " [4, 6],\n",
       " [3, 7, 9],\n",
       " [5, 8, 10, 13, 17, 18, 19, 21, 26, 27, 28],\n",
       " [16],\n",
       " [0, 1, 12, 20, 29],\n",
       " [2, 15, 22, 23, 24, 25]]"
      ]
     },
     "execution_count": 17,
     "metadata": {},
     "output_type": "execute_result"
    }
   ],
   "source": [
    "k_means(row, k, df.shape, 1000)"
   ]
  },
  {
   "cell_type": "markdown",
   "metadata": {},
   "source": [
    "On average, this is what happens, but sse also largely depends on the initially selected contours, which are chosen randomly"
   ]
  },
  {
   "cell_type": "code",
   "execution_count": 18,
   "metadata": {},
   "outputs": [
    {
     "data": {
      "text/plain": [
       "0        American Express\n",
       "1                  Boeing\n",
       "2                 Chevron\n",
       "3           Cisco Systems\n",
       "4                  DuPont\n",
       "5                   Kraft\n",
       "6             Caterpillar\n",
       "7         Bank of America\n",
       "8                 Verizon\n",
       "9               Microsoft\n",
       "10                    IBM\n",
       "11         The Home Depot\n",
       "12            Walt Disney\n",
       "13       Procter & Gamble\n",
       "14                  Alcoa\n",
       "15                  Intel\n",
       "16        Hewlett-Packard\n",
       "17               Wal-Mart\n",
       "18       General Electric\n",
       "19                   AT&T\n",
       "20                  Merck\n",
       "21                 Pfizer\n",
       "22    United Technologies\n",
       "23             ExxonMobil\n",
       "24              Travelers\n",
       "25         JPMorgan Chase\n",
       "26              McDonalds\n",
       "27              Coca-Cola\n",
       "28                     3M\n",
       "29      Johnson & Johnson\n",
       "Name: StockName, dtype: object"
      ]
     },
     "execution_count": 18,
     "metadata": {},
     "output_type": "execute_result"
    }
   ],
   "source": [
    "df_names"
   ]
  },
  {
   "cell_type": "markdown",
   "metadata": {},
   "source": [
    "The algorithm identifies two explicit clusters in which the food industry and the computer and telecommunications sectors prevail, respectively"
   ]
  }
 ],
 "metadata": {
  "kernelspec": {
   "display_name": "Python 3",
   "language": "python",
   "name": "python3"
  },
  "language_info": {
   "codemirror_mode": {
    "name": "ipython",
    "version": 3
   },
   "file_extension": ".py",
   "mimetype": "text/x-python",
   "name": "python",
   "nbconvert_exporter": "python",
   "pygments_lexer": "ipython3",
   "version": "3.8.5"
  }
 },
 "nbformat": 4,
 "nbformat_minor": 4
}
