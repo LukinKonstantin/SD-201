{
 "cells": [
  {
   "cell_type": "code",
   "execution_count": 99,
   "metadata": {},
   "outputs": [
    {
     "name": "stdout",
     "output_type": "stream",
     "text": [
      "6\n",
      "1\n",
      "2\n",
      "2\n",
      "3\n",
      "3\n",
      "4\n",
      "4\n",
      "1\n",
      "6\n",
      "1\n",
      "1\n",
      "5\n",
      "5\n",
      "6\n",
      "0\n"
     ]
    }
   ],
   "source": [
    "g = []\n",
    "e = 0.1\n",
    "beta = 1\n",
    "n = int(input())\n",
    "while(True):\n",
    "    a = int(input())\n",
    "    if (a == 0):\n",
    "        break\n",
    "    b = int(input())\n",
    "    g.append([a, b])"
   ]
  },
  {
   "cell_type": "code",
   "execution_count": 100,
   "metadata": {},
   "outputs": [
    {
     "name": "stdout",
     "output_type": "stream",
     "text": [
      "[[1, 2], [2, 3], [3, 4], [4, 1], [6, 1], [1, 5], [5, 6]]\n"
     ]
    }
   ],
   "source": [
    "print(g)"
   ]
  },
  {
   "cell_type": "code",
   "execution_count": 88,
   "metadata": {},
   "outputs": [],
   "source": [
    "def matrix(g, n):\n",
    "    M = [[0 for i in range(n)] for i in range(n)]\n",
    "    for i in range(n):\n",
    "        count = 0\n",
    "        for j in range(len(g)):\n",
    "            if (g[j][0] == i+1):\n",
    "                count += 1\n",
    "        for j in range(len(g)):\n",
    "            if (g[j][0] == i+1):\n",
    "                M[g[j][1] - 1][i] = 1/count\n",
    "    return M\n",
    "        "
   ]
  },
  {
   "cell_type": "code",
   "execution_count": 101,
   "metadata": {},
   "outputs": [],
   "source": [
    "M = matrix(g, n)"
   ]
  },
  {
   "cell_type": "code",
   "execution_count": 91,
   "metadata": {},
   "outputs": [],
   "source": [
    "def matrix_prod(m, rang):\n",
    "    temp = [0]*len(m)\n",
    "    for i in range(len(m)):\n",
    "        for j in range(len(m)):\n",
    "            temp[i] += m[i][j]*rang[j]\n",
    "    return temp"
   ]
  },
  {
   "cell_type": "code",
   "execution_count": 95,
   "metadata": {},
   "outputs": [],
   "source": [
    "def rang_counting(M, beta, e, n):\n",
    "    rang = [1/len(M) for i in range(len(M))]\n",
    "    temp = rang\n",
    "    while(sum(temp) > e):\n",
    "        temp1 = matrix_prod(M, rang)\n",
    "        for i in range(n):\n",
    "            temp1[i] = beta*temp1[i] + (1-beta)/n\n",
    "            temp[i] = abs(rang[i] - temp1[i])\n",
    "        rang = temp1\n",
    "    return rang"
   ]
  },
  {
   "cell_type": "code",
   "execution_count": 102,
   "metadata": {},
   "outputs": [
    {
     "data": {
      "text/plain": [
       "[0.2708333333333333,\n",
       " 0.13541666666666666,\n",
       " 0.15625,\n",
       " 0.14583333333333331,\n",
       " 0.13541666666666666,\n",
       " 0.15625]"
      ]
     },
     "execution_count": 102,
     "metadata": {},
     "output_type": "execute_result"
    }
   ],
   "source": [
    "rang_counting(M, 1, 0.1, n)"
   ]
  },
  {
   "cell_type": "code",
   "execution_count": 103,
   "metadata": {},
   "outputs": [
    {
     "data": {
      "text/plain": [
       "[0.2573333333333333,\n",
       " 0.13626666666666665,\n",
       " 0.15599999999999997,\n",
       " 0.1581333333333333,\n",
       " 0.13626666666666665,\n",
       " 0.15599999999999997]"
      ]
     },
     "execution_count": 103,
     "metadata": {},
     "output_type": "execute_result"
    }
   ],
   "source": [
    "rang_counting(M, 0.8, 0.1, n)"
   ]
  },
  {
   "cell_type": "code",
   "execution_count": 83,
   "metadata": {},
   "outputs": [],
   "source": [
    "from pathlib import Path\n",
    "import re\n",
    "\n",
    "files = []\n",
    "file_id = {}\n",
    "i = 1\n",
    "filenames = Path('toyset').glob('*.html')\n",
    "for file in filenames:\n",
    "    with open(file, 'r', encoding='utf-8') as f:\n",
    "        files.append(f.read())\n",
    "    file_id[file.name] = i\n",
    "    i += 1\n",
    "    \n",
    "linkz = set()\n",
    "for i, file in enumerate(files):\n",
    "    node1 = i + 1\n",
    "    links = re.findall(r'href=[\\'\\\"]?([^\\'\\\" >]+)', file)\n",
    "    for link in links:\n",
    "        if link in file_id:\n",
    "            node2 = file_id[link]\n",
    "        if node1 != node2:\n",
    "            linkz.add((node1, node2))\n",
    "linkz = list(linkz)\n",
    "        \n",
    "            \n"
   ]
  },
  {
   "cell_type": "code",
   "execution_count": 111,
   "metadata": {},
   "outputs": [
    {
     "name": "stdout",
     "output_type": "stream",
     "text": [
      "Assembly_language.html 0.035548743724838835\n",
      "Binary_file.html 0.0069098909842814065\n",
      "Boolean_data_type.html 0.011797117233988474\n",
      "Bytecode.html 0.015051847376213267\n",
      "C++.html 0.027628187838354707\n",
      "COBOL.html 0.02144079872867387\n",
      "Comparison_of_programming_languages.html 0.016034579731199823\n",
      "Compiler.html 0.029638562838702937\n",
      "Computer.html 0.02067971656904678\n",
      "Computer_hardware.html 0.020231730308262443\n",
      "Computer_memory.html 0.01438203758659951\n",
      "Computer_program.html 0.021260904445801008\n",
      "Computer_science.html 0.021986198016935864\n",
      "Control_flow.html 0.012319874060952906\n",
      "C_(programming_language).html 0.037139535732481965\n",
      "Database.html 0.011834920664502986\n",
      "Data_(computing).html 0.010459152875443722\n",
      "Data_type.html 0.019396409959484884\n",
      "Dynamic_programming_language.html 0.014485042183787305\n",
      "Executable.html 0.013241912331479937\n",
      "Fortran.html 0.02220822826862205\n",
      "GNU_Compiler_Collection.html 0.016176839047334954\n",
      "High-level_programming_language.html 0.021247234595428502\n",
      "Imperative_programming.html 0.022461277212084328\n",
      "Instruction_set.html 0.0182424770872145\n",
      "Integer_(computer_science).html 0.011618545594222462\n",
      "JavaScript.html 0.02303637132605988\n",
      "Java_(programming_language).html 0.031248192612809814\n",
      "Kernel_(computing).html 0.007235772440812546\n",
      "Lexical_scope.html 0.004940375004029244\n",
      "Linux.html 0.013932398586687093\n",
      "Lisp_(programming_language).html 0.025729625676495702\n",
      "List_of_programming_languages.html 0.01556794559991378\n",
      "Logic_programming.html 0.013040559580460439\n",
      "Low-level_programming_language.html 0.015440327198941905\n",
      "Memory_address.html 0.010629574926853312\n",
      "Method_(computer_programming).html 0.008921451246697886\n",
      "Object-oriented_programming.html 0.026132672396750548\n",
      "Object_(computer_science).html 0.018146341157974557\n",
      "Operating_system.html 0.03327761881571514\n",
      "Pointer_(computer_programming).html 0.01588938344787707\n",
      "Porting.html 0.011759071840471433\n",
      "Programming_language.html 0.044423897668990006\n",
      "Program_(machine).html 0.005604542750457752\n",
      "Python_(programming_language).html 0.024832516277263905\n",
      "Scripting_language.html 0.017630698706361997\n",
      "Snowball_programming_language.html 0.004475764458560157\n",
      "Software.html 0.014166264556819724\n",
      "Software_portability.html 0.014205548467787042\n",
      "Source_code.html 0.020105652668881573\n",
      "Strong_and_weak_typing.html 0.007866676021373593\n",
      "Subroutine.html 0.01668443709997314\n",
      "Type_system.html 0.02059077847767382\n",
      "Unix.html 0.019483424059203214\n",
      "Virtual_machine.html 0.021580351932164336\n"
     ]
    }
   ],
   "source": [
    "names = []\n",
    "filenames = Path('toyset').glob('*.html')\n",
    "for file in filenames:\n",
    "    names.append(file.name)\n",
    "count = rang_counting(matrix(linkz, len(file_id)), 0.8, 0.1, len(file_id))\n",
    "i = 0\n",
    "for c in count:\n",
    "    print(names[i], c)\n",
    "    i += 1"
   ]
  },
  {
   "cell_type": "code",
   "execution_count": 116,
   "metadata": {},
   "outputs": [],
   "source": [
    "def remove_dead_ends(g):\n",
    "    count = [0]*len(g)\n",
    "    for i in range(len(g)):\n",
    "        for j in range(len(g)):\n",
    "            if g[i][1] == g[j][0]:\n",
    "                count[i] += 1\n",
    "    for i in range(len(g)):\n",
    "        if count[i] == 0:\n",
    "            g[i][0] = -1\n",
    "    for g0 in g:\n",
    "        if g0[0] == -1:\n",
    "            g.remove(g0)\n",
    "    for i in range(len(g)):\n",
    "        for j in range(len(g)):\n",
    "            if g[i][1] == g[j][0]:\n",
    "                count[i] += 1\n",
    "    for i in range(len(g)):\n",
    "        if count[i] == 0:\n",
    "            remove_dead_ends(g)\n",
    "    return g\n",
    "    "
   ]
  },
  {
   "cell_type": "code",
   "execution_count": 118,
   "metadata": {},
   "outputs": [],
   "source": [
    "g = [[1, 2],\n",
    "     [1, 3],\n",
    "     [2, 3],\n",
    "     [3, 4],\n",
    "     [4, 2],\n",
    "     [4, 5],\n",
    "     [1, 6]]"
   ]
  },
  {
   "cell_type": "code",
   "execution_count": 119,
   "metadata": {},
   "outputs": [
    {
     "data": {
      "text/plain": [
       "[[1, 2], [1, 3], [2, 3], [3, 4], [4, 2]]"
      ]
     },
     "execution_count": 119,
     "metadata": {},
     "output_type": "execute_result"
    }
   ],
   "source": [
    "remove_dead_ends(g)"
   ]
  },
  {
   "cell_type": "code",
   "execution_count": null,
   "metadata": {},
   "outputs": [],
   "source": []
  }
 ],
 "metadata": {
  "kernelspec": {
   "display_name": "Python 3",
   "language": "python",
   "name": "python3"
  },
  "language_info": {
   "codemirror_mode": {
    "name": "ipython",
    "version": 3
   },
   "file_extension": ".py",
   "mimetype": "text/x-python",
   "name": "python",
   "nbconvert_exporter": "python",
   "pygments_lexer": "ipython3",
   "version": "3.8.5"
  }
 },
 "nbformat": 4,
 "nbformat_minor": 4
}
